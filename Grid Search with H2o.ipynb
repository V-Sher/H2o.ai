{
 "cells": [
  {
   "cell_type": "markdown",
   "metadata": {},
   "source": [
    "## Grid Search\n",
    "\n",
    "https://github.com/h2oai/h2o-tutorials/blob/master/h2o-open-tour-2016/chicago/grid-search-model-selection.ipynb"
   ]
  },
  {
   "cell_type": "code",
   "execution_count": 2,
   "metadata": {},
   "outputs": [],
   "source": [
    "import h2o"
   ]
  },
  {
   "cell_type": "code",
   "execution_count": 32,
   "metadata": {},
   "outputs": [],
   "source": [
    "from h2o.estimators.glm import H2OGeneralizedLinearEstimator"
   ]
  },
  {
   "cell_type": "code",
   "execution_count": 20,
   "metadata": {},
   "outputs": [
    {
     "name": "stdout",
     "output_type": "stream",
     "text": [
      "Checking whether there is an H2O instance running at http://localhost:54321 ..... not found.\n",
      "Attempting to start a local H2O server...\n",
      "  Java Version: java version \"1.8.0_171\"; Java(TM) SE Runtime Environment (build 1.8.0_171-b11); Java HotSpot(TM) 64-Bit Server VM (build 25.171-b11, mixed mode)\n",
      "  Starting server from /Users/root947/opt/anaconda3/lib/python3.7/site-packages/h2o/backend/bin/h2o.jar\n",
      "  Ice root: /var/folders/28/v4b6y1zn3bj9rpkhnp1s5m700000gn/T/tmpmsqjur5o\n",
      "  JVM stdout: /var/folders/28/v4b6y1zn3bj9rpkhnp1s5m700000gn/T/tmpmsqjur5o/h2o_root947_started_from_python.out\n",
      "  JVM stderr: /var/folders/28/v4b6y1zn3bj9rpkhnp1s5m700000gn/T/tmpmsqjur5o/h2o_root947_started_from_python.err\n",
      "  Server is running at http://127.0.0.1:54321\n",
      "Connecting to H2O server at http://127.0.0.1:54321 ... successful.\n"
     ]
    },
    {
     "data": {
      "text/html": [
       "<div style=\"overflow:auto\"><table style=\"width:50%\"><tr><td>H2O_cluster_uptime:</td>\n",
       "<td>03 secs</td></tr>\n",
       "<tr><td>H2O_cluster_timezone:</td>\n",
       "<td>Asia/Kolkata</td></tr>\n",
       "<tr><td>H2O_data_parsing_timezone:</td>\n",
       "<td>UTC</td></tr>\n",
       "<tr><td>H2O_cluster_version:</td>\n",
       "<td>3.30.0.3</td></tr>\n",
       "<tr><td>H2O_cluster_version_age:</td>\n",
       "<td>8 days </td></tr>\n",
       "<tr><td>H2O_cluster_name:</td>\n",
       "<td>H2O_from_python_root947_lbbas2</td></tr>\n",
       "<tr><td>H2O_cluster_total_nodes:</td>\n",
       "<td>1</td></tr>\n",
       "<tr><td>H2O_cluster_free_memory:</td>\n",
       "<td>3.556 Gb</td></tr>\n",
       "<tr><td>H2O_cluster_total_cores:</td>\n",
       "<td>4</td></tr>\n",
       "<tr><td>H2O_cluster_allowed_cores:</td>\n",
       "<td>2</td></tr>\n",
       "<tr><td>H2O_cluster_status:</td>\n",
       "<td>accepting new members, healthy</td></tr>\n",
       "<tr><td>H2O_connection_url:</td>\n",
       "<td>http://127.0.0.1:54321</td></tr>\n",
       "<tr><td>H2O_connection_proxy:</td>\n",
       "<td>{\"http\": null, \"https\": null}</td></tr>\n",
       "<tr><td>H2O_internal_security:</td>\n",
       "<td>False</td></tr>\n",
       "<tr><td>H2O_API_Extensions:</td>\n",
       "<td>Amazon S3, XGBoost, Algos, AutoML, Core V3, TargetEncoder, Core V4</td></tr>\n",
       "<tr><td>Python_version:</td>\n",
       "<td>3.7.4 final</td></tr></table></div>"
      ],
      "text/plain": [
       "--------------------------  ------------------------------------------------------------------\n",
       "H2O_cluster_uptime:         03 secs\n",
       "H2O_cluster_timezone:       Asia/Kolkata\n",
       "H2O_data_parsing_timezone:  UTC\n",
       "H2O_cluster_version:        3.30.0.3\n",
       "H2O_cluster_version_age:    8 days\n",
       "H2O_cluster_name:           H2O_from_python_root947_lbbas2\n",
       "H2O_cluster_total_nodes:    1\n",
       "H2O_cluster_free_memory:    3.556 Gb\n",
       "H2O_cluster_total_cores:    4\n",
       "H2O_cluster_allowed_cores:  2\n",
       "H2O_cluster_status:         accepting new members, healthy\n",
       "H2O_connection_url:         http://127.0.0.1:54321\n",
       "H2O_connection_proxy:       {\"http\": null, \"https\": null}\n",
       "H2O_internal_security:      False\n",
       "H2O_API_Extensions:         Amazon S3, XGBoost, Algos, AutoML, Core V3, TargetEncoder, Core V4\n",
       "Python_version:             3.7.4 final\n",
       "--------------------------  ------------------------------------------------------------------"
      ]
     },
     "metadata": {},
     "output_type": "display_data"
    }
   ],
   "source": [
    "# initialize h2o\n",
    "h2o.init(nthreads = 2, max_mem_size= 4)"
   ]
  },
  {
   "cell_type": "code",
   "execution_count": 22,
   "metadata": {},
   "outputs": [
    {
     "name": "stdout",
     "output_type": "stream",
     "text": [
      "Parse progress: |█████████████████████████████████████████████████████████| 100%\n"
     ]
    }
   ],
   "source": [
    "# loading dataset - cleaned oodle file\n",
    "df = h2o.import_file('df_cleaned.csv')"
   ]
  },
  {
   "cell_type": "code",
   "execution_count": 23,
   "metadata": {
    "scrolled": true
   },
   "outputs": [
    {
     "name": "stdout",
     "output_type": "stream",
     "text": [
      "Rows:10000\n",
      "Cols:11\n",
      "\n",
      "\n"
     ]
    },
    {
     "data": {
      "text/html": [
       "<table>\n",
       "<thead>\n",
       "<tr><th>       </th><th>ID                </th><th>age               </th><th>car_type   </th><th>Loanamount        </th><th>Deposit           </th><th>area  </th><th>APR                </th><th>application_outcome  </th><th>Funded  </th><th>deposit_prop      </th><th>age_group  </th></tr>\n",
       "</thead>\n",
       "<tbody>\n",
       "<tr><td>type   </td><td>int               </td><td>int               </td><td>enum       </td><td>int               </td><td>int               </td><td>enum  </td><td>real               </td><td>enum                 </td><td>enum    </td><td>real              </td><td>enum       </td></tr>\n",
       "<tr><td>mins   </td><td>1.0               </td><td>18.0              </td><td>           </td><td>2502.0            </td><td>500.0             </td><td>      </td><td>0.05               </td><td>                     </td><td>        </td><td>2.01              </td><td>           </td></tr>\n",
       "<tr><td>mean   </td><td>5000.5            </td><td>40.4774           </td><td>           </td><td>11920.430199999997</td><td>2668.1421         </td><td>      </td><td>0.1488098918083462 </td><td>                     </td><td>        </td><td>26.618957999999996</td><td>           </td></tr>\n",
       "<tr><td>maxs   </td><td>10000.0           </td><td>65.0              </td><td>           </td><td>26986.0           </td><td>6000.0            </td><td>      </td><td>0.25               </td><td>                     </td><td>        </td><td>99.96             </td><td>           </td></tr>\n",
       "<tr><td>sigma  </td><td>2886.8956799071684</td><td>14.015902888982191</td><td>           </td><td>5882.825282520163 </td><td>1669.1840287517057</td><td>      </td><td>0.06409510942768293</td><td>                     </td><td>        </td><td>19.272359861721654</td><td>           </td></tr>\n",
       "<tr><td>zeros  </td><td>0                 </td><td>0                 </td><td>           </td><td>0                 </td><td>0                 </td><td>      </td><td>0                  </td><td>                     </td><td>        </td><td>0                 </td><td>           </td></tr>\n",
       "<tr><td>missing</td><td>0                 </td><td>0                 </td><td>0          </td><td>0                 </td><td>0                 </td><td>0     </td><td>3530               </td><td>0                    </td><td>0       </td><td>0                 </td><td>0          </td></tr>\n",
       "<tr><td>0      </td><td>9997.0            </td><td>61.0              </td><td>Convertible</td><td>24108.0           </td><td>881.0             </td><td>rural </td><td>0.15               </td><td>approved             </td><td>No      </td><td>3.65              </td><td>Older      </td></tr>\n",
       "<tr><td>1      </td><td>9996.0            </td><td>42.0              </td><td>Saloon     </td><td>5988.0            </td><td>967.0             </td><td>rural </td><td>0.2                </td><td>approved             </td><td>No      </td><td>16.15             </td><td>Older      </td></tr>\n",
       "<tr><td>2      </td><td>9995.0            </td><td>57.0              </td><td>Saloon     </td><td>5099.0            </td><td>973.0             </td><td>urban </td><td>0.15               </td><td>approved             </td><td>No      </td><td>19.08             </td><td>Older      </td></tr>\n",
       "<tr><td>3      </td><td>9994.0            </td><td>32.0              </td><td>Convertible</td><td>20774.0           </td><td>1478.0            </td><td>rural </td><td>nan                </td><td>declined             </td><td>No_D    </td><td>7.11              </td><td>Middle-Aged</td></tr>\n",
       "<tr><td>4      </td><td>9993.0            </td><td>29.0              </td><td>Saloon     </td><td>4612.0            </td><td>774.0             </td><td>urban </td><td>nan                </td><td>declined             </td><td>No_D    </td><td>16.78             </td><td>Middle-Aged</td></tr>\n",
       "<tr><td>5      </td><td>9988.0            </td><td>63.0              </td><td>Saloon     </td><td>2980.0            </td><td>679.0             </td><td>rural </td><td>nan                </td><td>declined             </td><td>No_D    </td><td>22.79             </td><td>Older      </td></tr>\n",
       "<tr><td>6      </td><td>9985.0            </td><td>49.0              </td><td>SUV        </td><td>9738.0            </td><td>671.0             </td><td>rural </td><td>0.15               </td><td>approved             </td><td>Yes     </td><td>6.89              </td><td>Older      </td></tr>\n",
       "<tr><td>7      </td><td>9981.0            </td><td>52.0              </td><td>Saloon     </td><td>6341.0            </td><td>533.0             </td><td>urban </td><td>0.15               </td><td>approved             </td><td>No      </td><td>8.41              </td><td>Older      </td></tr>\n",
       "<tr><td>8      </td><td>9979.0            </td><td>21.0              </td><td>Convertible</td><td>18056.0           </td><td>1152.0            </td><td>urban </td><td>nan                </td><td>declined             </td><td>No_D    </td><td>6.38              </td><td>Young      </td></tr>\n",
       "<tr><td>9      </td><td>9978.0            </td><td>19.0              </td><td>SUV        </td><td>14884.0           </td><td>1233.0            </td><td>rural </td><td>nan                </td><td>declined             </td><td>No_D    </td><td>8.28              </td><td>Young      </td></tr>\n",
       "</tbody>\n",
       "</table>"
      ]
     },
     "metadata": {},
     "output_type": "display_data"
    }
   ],
   "source": [
    "df.describe()"
   ]
  },
  {
   "cell_type": "code",
   "execution_count": 7,
   "metadata": {},
   "outputs": [
    {
     "data": {
      "text/plain": [
       "(10000, 11)"
      ]
     },
     "execution_count": 7,
     "metadata": {},
     "output_type": "execute_result"
    }
   ],
   "source": [
    "df.shape"
   ]
  },
  {
   "cell_type": "markdown",
   "metadata": {},
   "source": [
    "All the columns look good, wrt to the column type."
   ]
  },
  {
   "cell_type": "code",
   "execution_count": 24,
   "metadata": {},
   "outputs": [],
   "source": [
    "# Defining training, testing and validation sets\n",
    "\n",
    "split = df.split_frame(ratios= [0.7, 0.15])\n",
    "train, validate, test = split"
   ]
  },
  {
   "cell_type": "code",
   "execution_count": 25,
   "metadata": {},
   "outputs": [
    {
     "data": {
      "text/plain": [
       "(7057, 11)"
      ]
     },
     "execution_count": 25,
     "metadata": {},
     "output_type": "execute_result"
    }
   ],
   "source": [
    "train.shape"
   ]
  },
  {
   "cell_type": "code",
   "execution_count": 26,
   "metadata": {},
   "outputs": [
    {
     "data": {
      "text/plain": [
       "(1462, 11)"
      ]
     },
     "execution_count": 26,
     "metadata": {},
     "output_type": "execute_result"
    }
   ],
   "source": [
    "validate.shape"
   ]
  },
  {
   "cell_type": "code",
   "execution_count": 27,
   "metadata": {},
   "outputs": [
    {
     "data": {
      "text/plain": [
       "(1481, 11)"
      ]
     },
     "execution_count": 27,
     "metadata": {},
     "output_type": "execute_result"
    }
   ],
   "source": [
    "test.shape"
   ]
  },
  {
   "cell_type": "code",
   "execution_count": 11,
   "metadata": {},
   "outputs": [
    {
     "data": {
      "text/plain": [
       "['ID',\n",
       " 'age',\n",
       " 'car_type',\n",
       " 'Loanamount',\n",
       " 'Deposit',\n",
       " 'area',\n",
       " 'APR',\n",
       " 'application_outcome',\n",
       " 'Funded',\n",
       " 'deposit_prop',\n",
       " 'age_group']"
      ]
     },
     "execution_count": 11,
     "metadata": {},
     "output_type": "execute_result"
    }
   ],
   "source": [
    "df.columns"
   ]
  },
  {
   "cell_type": "code",
   "execution_count": 28,
   "metadata": {},
   "outputs": [],
   "source": [
    "# Identify response and predictor variable\n",
    "x = ['age', 'car_type', 'Loanamount', 'Deposit', 'area']\n",
    "y = 'application_outcome'"
   ]
  },
  {
   "cell_type": "markdown",
   "metadata": {},
   "source": [
    "## Logistic Regression Classifier"
   ]
  },
  {
   "cell_type": "code",
   "execution_count": 23,
   "metadata": {},
   "outputs": [],
   "source": [
    "glm = H2OGeneralizedLinearEstimator(family = 'binomial',alpha = 0.15)"
   ]
  },
  {
   "cell_type": "code",
   "execution_count": 24,
   "metadata": {},
   "outputs": [
    {
     "name": "stdout",
     "output_type": "stream",
     "text": [
      "glm Model Build progress: |███████████████████████████████████████████████| 100%\n"
     ]
    }
   ],
   "source": [
    "glm.train(x = x, y = y, training_frame=train)"
   ]
  },
  {
   "cell_type": "code",
   "execution_count": 29,
   "metadata": {},
   "outputs": [
    {
     "name": "stdout",
     "output_type": "stream",
     "text": [
      "\n",
      "ModelMetricsBinomialGLM: glm\n",
      "** Reported on test data. **\n",
      "\n",
      "MSE: 0.18469533882386577\n",
      "RMSE: 0.4297619559987433\n",
      "LogLoss: 0.5543500584823039\n",
      "Null degrees of freedom: 1559\n",
      "Residual degrees of freedom: 1551\n",
      "Null deviance: 2051.9651777304402\n",
      "Residual deviance: 1729.572182464788\n",
      "AIC: 1747.572182464788\n",
      "AUC: 0.7656449067127205\n",
      "AUCPR: 0.639380074639087\n",
      "Gini: 0.5312898134254409\n",
      "\n",
      "Confusion Matrix (Act/Pred) for max f1 @ threshold = 0.3104805260152944: \n"
     ]
    },
    {
     "data": {
      "text/html": [
       "<div>\n",
       "<style scoped>\n",
       "    .dataframe tbody tr th:only-of-type {\n",
       "        vertical-align: middle;\n",
       "    }\n",
       "\n",
       "    .dataframe tbody tr th {\n",
       "        vertical-align: top;\n",
       "    }\n",
       "\n",
       "    .dataframe thead th {\n",
       "        text-align: right;\n",
       "    }\n",
       "</style>\n",
       "<table border=\"1\" class=\"dataframe\">\n",
       "  <thead>\n",
       "    <tr style=\"text-align: right;\">\n",
       "      <th></th>\n",
       "      <th></th>\n",
       "      <th>approved</th>\n",
       "      <th>declined</th>\n",
       "      <th>Error</th>\n",
       "      <th>Rate</th>\n",
       "    </tr>\n",
       "  </thead>\n",
       "  <tbody>\n",
       "    <tr>\n",
       "      <td>0</td>\n",
       "      <td>approved</td>\n",
       "      <td>650.0</td>\n",
       "      <td>338.0</td>\n",
       "      <td>0.3421</td>\n",
       "      <td>(338.0/988.0)</td>\n",
       "    </tr>\n",
       "    <tr>\n",
       "      <td>1</td>\n",
       "      <td>declined</td>\n",
       "      <td>134.0</td>\n",
       "      <td>438.0</td>\n",
       "      <td>0.2343</td>\n",
       "      <td>(134.0/572.0)</td>\n",
       "    </tr>\n",
       "    <tr>\n",
       "      <td>2</td>\n",
       "      <td>Total</td>\n",
       "      <td>784.0</td>\n",
       "      <td>776.0</td>\n",
       "      <td>0.3026</td>\n",
       "      <td>(472.0/1560.0)</td>\n",
       "    </tr>\n",
       "  </tbody>\n",
       "</table>\n",
       "</div>"
      ],
      "text/plain": [
       "             approved  declined   Error             Rate\n",
       "0  approved     650.0     338.0  0.3421    (338.0/988.0)\n",
       "1  declined     134.0     438.0  0.2343    (134.0/572.0)\n",
       "2     Total     784.0     776.0  0.3026   (472.0/1560.0)"
      ]
     },
     "metadata": {},
     "output_type": "display_data"
    },
    {
     "name": "stdout",
     "output_type": "stream",
     "text": [
      "\n",
      "Maximum Metrics: Maximum metrics at their respective thresholds\n"
     ]
    },
    {
     "data": {
      "text/html": [
       "<div>\n",
       "<style scoped>\n",
       "    .dataframe tbody tr th:only-of-type {\n",
       "        vertical-align: middle;\n",
       "    }\n",
       "\n",
       "    .dataframe tbody tr th {\n",
       "        vertical-align: top;\n",
       "    }\n",
       "\n",
       "    .dataframe thead th {\n",
       "        text-align: right;\n",
       "    }\n",
       "</style>\n",
       "<table border=\"1\" class=\"dataframe\">\n",
       "  <thead>\n",
       "    <tr style=\"text-align: right;\">\n",
       "      <th></th>\n",
       "      <th>metric</th>\n",
       "      <th>threshold</th>\n",
       "      <th>value</th>\n",
       "      <th>idx</th>\n",
       "    </tr>\n",
       "  </thead>\n",
       "  <tbody>\n",
       "    <tr>\n",
       "      <td>0</td>\n",
       "      <td>max f1</td>\n",
       "      <td>0.310481</td>\n",
       "      <td>0.649852</td>\n",
       "      <td>221.0</td>\n",
       "    </tr>\n",
       "    <tr>\n",
       "      <td>1</td>\n",
       "      <td>max f2</td>\n",
       "      <td>0.067859</td>\n",
       "      <td>0.758556</td>\n",
       "      <td>372.0</td>\n",
       "    </tr>\n",
       "    <tr>\n",
       "      <td>2</td>\n",
       "      <td>max f0point5</td>\n",
       "      <td>0.536319</td>\n",
       "      <td>0.643876</td>\n",
       "      <td>118.0</td>\n",
       "    </tr>\n",
       "    <tr>\n",
       "      <td>3</td>\n",
       "      <td>max accuracy</td>\n",
       "      <td>0.536319</td>\n",
       "      <td>0.736538</td>\n",
       "      <td>118.0</td>\n",
       "    </tr>\n",
       "    <tr>\n",
       "      <td>4</td>\n",
       "      <td>max precision</td>\n",
       "      <td>0.834262</td>\n",
       "      <td>1.000000</td>\n",
       "      <td>0.0</td>\n",
       "    </tr>\n",
       "    <tr>\n",
       "      <td>5</td>\n",
       "      <td>max recall</td>\n",
       "      <td>0.040818</td>\n",
       "      <td>1.000000</td>\n",
       "      <td>392.0</td>\n",
       "    </tr>\n",
       "    <tr>\n",
       "      <td>6</td>\n",
       "      <td>max specificity</td>\n",
       "      <td>0.834262</td>\n",
       "      <td>1.000000</td>\n",
       "      <td>0.0</td>\n",
       "    </tr>\n",
       "    <tr>\n",
       "      <td>7</td>\n",
       "      <td>max absolute_mcc</td>\n",
       "      <td>0.447614</td>\n",
       "      <td>0.423812</td>\n",
       "      <td>157.0</td>\n",
       "    </tr>\n",
       "    <tr>\n",
       "      <td>8</td>\n",
       "      <td>max min_per_class_accuracy</td>\n",
       "      <td>0.375086</td>\n",
       "      <td>0.702797</td>\n",
       "      <td>193.0</td>\n",
       "    </tr>\n",
       "    <tr>\n",
       "      <td>9</td>\n",
       "      <td>max mean_per_class_accuracy</td>\n",
       "      <td>0.447614</td>\n",
       "      <td>0.713103</td>\n",
       "      <td>157.0</td>\n",
       "    </tr>\n",
       "    <tr>\n",
       "      <td>10</td>\n",
       "      <td>max tns</td>\n",
       "      <td>0.834262</td>\n",
       "      <td>988.000000</td>\n",
       "      <td>0.0</td>\n",
       "    </tr>\n",
       "    <tr>\n",
       "      <td>11</td>\n",
       "      <td>max fns</td>\n",
       "      <td>0.834262</td>\n",
       "      <td>571.000000</td>\n",
       "      <td>0.0</td>\n",
       "    </tr>\n",
       "    <tr>\n",
       "      <td>12</td>\n",
       "      <td>max fps</td>\n",
       "      <td>0.030085</td>\n",
       "      <td>988.000000</td>\n",
       "      <td>399.0</td>\n",
       "    </tr>\n",
       "    <tr>\n",
       "      <td>13</td>\n",
       "      <td>max tps</td>\n",
       "      <td>0.040818</td>\n",
       "      <td>572.000000</td>\n",
       "      <td>392.0</td>\n",
       "    </tr>\n",
       "    <tr>\n",
       "      <td>14</td>\n",
       "      <td>max tnr</td>\n",
       "      <td>0.834262</td>\n",
       "      <td>1.000000</td>\n",
       "      <td>0.0</td>\n",
       "    </tr>\n",
       "    <tr>\n",
       "      <td>15</td>\n",
       "      <td>max fnr</td>\n",
       "      <td>0.834262</td>\n",
       "      <td>0.998252</td>\n",
       "      <td>0.0</td>\n",
       "    </tr>\n",
       "    <tr>\n",
       "      <td>16</td>\n",
       "      <td>max fpr</td>\n",
       "      <td>0.030085</td>\n",
       "      <td>1.000000</td>\n",
       "      <td>399.0</td>\n",
       "    </tr>\n",
       "    <tr>\n",
       "      <td>17</td>\n",
       "      <td>max tpr</td>\n",
       "      <td>0.040818</td>\n",
       "      <td>1.000000</td>\n",
       "      <td>392.0</td>\n",
       "    </tr>\n",
       "  </tbody>\n",
       "</table>\n",
       "</div>"
      ],
      "text/plain": [
       "                         metric  threshold       value    idx\n",
       "0                        max f1   0.310481    0.649852  221.0\n",
       "1                        max f2   0.067859    0.758556  372.0\n",
       "2                  max f0point5   0.536319    0.643876  118.0\n",
       "3                  max accuracy   0.536319    0.736538  118.0\n",
       "4                 max precision   0.834262    1.000000    0.0\n",
       "5                    max recall   0.040818    1.000000  392.0\n",
       "6               max specificity   0.834262    1.000000    0.0\n",
       "7              max absolute_mcc   0.447614    0.423812  157.0\n",
       "8    max min_per_class_accuracy   0.375086    0.702797  193.0\n",
       "9   max mean_per_class_accuracy   0.447614    0.713103  157.0\n",
       "10                      max tns   0.834262  988.000000    0.0\n",
       "11                      max fns   0.834262  571.000000    0.0\n",
       "12                      max fps   0.030085  988.000000  399.0\n",
       "13                      max tps   0.040818  572.000000  392.0\n",
       "14                      max tnr   0.834262    1.000000    0.0\n",
       "15                      max fnr   0.834262    0.998252    0.0\n",
       "16                      max fpr   0.030085    1.000000  399.0\n",
       "17                      max tpr   0.040818    1.000000  392.0"
      ]
     },
     "metadata": {},
     "output_type": "display_data"
    },
    {
     "name": "stdout",
     "output_type": "stream",
     "text": [
      "\n",
      "Gains/Lift Table: Avg response rate: 36.67 %, avg score: 36.14 %\n"
     ]
    },
    {
     "data": {
      "text/html": [
       "<div>\n",
       "<style scoped>\n",
       "    .dataframe tbody tr th:only-of-type {\n",
       "        vertical-align: middle;\n",
       "    }\n",
       "\n",
       "    .dataframe tbody tr th {\n",
       "        vertical-align: top;\n",
       "    }\n",
       "\n",
       "    .dataframe thead th {\n",
       "        text-align: right;\n",
       "    }\n",
       "</style>\n",
       "<table border=\"1\" class=\"dataframe\">\n",
       "  <thead>\n",
       "    <tr style=\"text-align: right;\">\n",
       "      <th></th>\n",
       "      <th></th>\n",
       "      <th>group</th>\n",
       "      <th>cumulative_data_fraction</th>\n",
       "      <th>lower_threshold</th>\n",
       "      <th>lift</th>\n",
       "      <th>cumulative_lift</th>\n",
       "      <th>response_rate</th>\n",
       "      <th>score</th>\n",
       "      <th>cumulative_response_rate</th>\n",
       "      <th>cumulative_score</th>\n",
       "      <th>capture_rate</th>\n",
       "      <th>cumulative_capture_rate</th>\n",
       "      <th>gain</th>\n",
       "      <th>cumulative_gain</th>\n",
       "    </tr>\n",
       "  </thead>\n",
       "  <tbody>\n",
       "    <tr>\n",
       "      <td>0</td>\n",
       "      <td></td>\n",
       "      <td>1</td>\n",
       "      <td>0.010256</td>\n",
       "      <td>0.796761</td>\n",
       "      <td>1.875000</td>\n",
       "      <td>1.875000</td>\n",
       "      <td>0.687500</td>\n",
       "      <td>0.807534</td>\n",
       "      <td>0.687500</td>\n",
       "      <td>0.807534</td>\n",
       "      <td>0.019231</td>\n",
       "      <td>0.019231</td>\n",
       "      <td>87.500000</td>\n",
       "      <td>87.500000</td>\n",
       "    </tr>\n",
       "    <tr>\n",
       "      <td>1</td>\n",
       "      <td></td>\n",
       "      <td>2</td>\n",
       "      <td>0.020513</td>\n",
       "      <td>0.781028</td>\n",
       "      <td>2.215909</td>\n",
       "      <td>2.045455</td>\n",
       "      <td>0.812500</td>\n",
       "      <td>0.785324</td>\n",
       "      <td>0.750000</td>\n",
       "      <td>0.796429</td>\n",
       "      <td>0.022727</td>\n",
       "      <td>0.041958</td>\n",
       "      <td>121.590909</td>\n",
       "      <td>104.545455</td>\n",
       "    </tr>\n",
       "    <tr>\n",
       "      <td>2</td>\n",
       "      <td></td>\n",
       "      <td>3</td>\n",
       "      <td>0.030128</td>\n",
       "      <td>0.768043</td>\n",
       "      <td>1.454545</td>\n",
       "      <td>1.856867</td>\n",
       "      <td>0.533333</td>\n",
       "      <td>0.777303</td>\n",
       "      <td>0.680851</td>\n",
       "      <td>0.790325</td>\n",
       "      <td>0.013986</td>\n",
       "      <td>0.055944</td>\n",
       "      <td>45.454545</td>\n",
       "      <td>85.686654</td>\n",
       "    </tr>\n",
       "    <tr>\n",
       "      <td>3</td>\n",
       "      <td></td>\n",
       "      <td>4</td>\n",
       "      <td>0.040385</td>\n",
       "      <td>0.754279</td>\n",
       "      <td>1.193182</td>\n",
       "      <td>1.688312</td>\n",
       "      <td>0.437500</td>\n",
       "      <td>0.760446</td>\n",
       "      <td>0.619048</td>\n",
       "      <td>0.782737</td>\n",
       "      <td>0.012238</td>\n",
       "      <td>0.068182</td>\n",
       "      <td>19.318182</td>\n",
       "      <td>68.831169</td>\n",
       "    </tr>\n",
       "    <tr>\n",
       "      <td>4</td>\n",
       "      <td></td>\n",
       "      <td>5</td>\n",
       "      <td>0.050000</td>\n",
       "      <td>0.737866</td>\n",
       "      <td>1.454545</td>\n",
       "      <td>1.643357</td>\n",
       "      <td>0.533333</td>\n",
       "      <td>0.748063</td>\n",
       "      <td>0.602564</td>\n",
       "      <td>0.776069</td>\n",
       "      <td>0.013986</td>\n",
       "      <td>0.082168</td>\n",
       "      <td>45.454545</td>\n",
       "      <td>64.335664</td>\n",
       "    </tr>\n",
       "    <tr>\n",
       "      <td>5</td>\n",
       "      <td></td>\n",
       "      <td>6</td>\n",
       "      <td>0.117308</td>\n",
       "      <td>0.732708</td>\n",
       "      <td>2.701299</td>\n",
       "      <td>2.250373</td>\n",
       "      <td>0.990476</td>\n",
       "      <td>0.732815</td>\n",
       "      <td>0.825137</td>\n",
       "      <td>0.751251</td>\n",
       "      <td>0.181818</td>\n",
       "      <td>0.263986</td>\n",
       "      <td>170.129870</td>\n",
       "      <td>125.037258</td>\n",
       "    </tr>\n",
       "    <tr>\n",
       "      <td>6</td>\n",
       "      <td></td>\n",
       "      <td>7</td>\n",
       "      <td>0.150000</td>\n",
       "      <td>0.680923</td>\n",
       "      <td>1.550802</td>\n",
       "      <td>2.097902</td>\n",
       "      <td>0.568627</td>\n",
       "      <td>0.706082</td>\n",
       "      <td>0.769231</td>\n",
       "      <td>0.741406</td>\n",
       "      <td>0.050699</td>\n",
       "      <td>0.314685</td>\n",
       "      <td>55.080214</td>\n",
       "      <td>109.790210</td>\n",
       "    </tr>\n",
       "    <tr>\n",
       "      <td>7</td>\n",
       "      <td></td>\n",
       "      <td>8</td>\n",
       "      <td>0.200000</td>\n",
       "      <td>0.631759</td>\n",
       "      <td>1.608392</td>\n",
       "      <td>1.975524</td>\n",
       "      <td>0.589744</td>\n",
       "      <td>0.657772</td>\n",
       "      <td>0.724359</td>\n",
       "      <td>0.720498</td>\n",
       "      <td>0.080420</td>\n",
       "      <td>0.395105</td>\n",
       "      <td>60.839161</td>\n",
       "      <td>97.552448</td>\n",
       "    </tr>\n",
       "    <tr>\n",
       "      <td>8</td>\n",
       "      <td></td>\n",
       "      <td>9</td>\n",
       "      <td>0.300000</td>\n",
       "      <td>0.528060</td>\n",
       "      <td>1.538462</td>\n",
       "      <td>1.829837</td>\n",
       "      <td>0.564103</td>\n",
       "      <td>0.581620</td>\n",
       "      <td>0.670940</td>\n",
       "      <td>0.674205</td>\n",
       "      <td>0.153846</td>\n",
       "      <td>0.548951</td>\n",
       "      <td>53.846154</td>\n",
       "      <td>82.983683</td>\n",
       "    </tr>\n",
       "    <tr>\n",
       "      <td>9</td>\n",
       "      <td></td>\n",
       "      <td>10</td>\n",
       "      <td>0.400000</td>\n",
       "      <td>0.420971</td>\n",
       "      <td>1.136364</td>\n",
       "      <td>1.656469</td>\n",
       "      <td>0.416667</td>\n",
       "      <td>0.479823</td>\n",
       "      <td>0.607372</td>\n",
       "      <td>0.625610</td>\n",
       "      <td>0.113636</td>\n",
       "      <td>0.662587</td>\n",
       "      <td>13.636364</td>\n",
       "      <td>65.646853</td>\n",
       "    </tr>\n",
       "    <tr>\n",
       "      <td>10</td>\n",
       "      <td></td>\n",
       "      <td>11</td>\n",
       "      <td>0.500000</td>\n",
       "      <td>0.307136</td>\n",
       "      <td>1.031469</td>\n",
       "      <td>1.531469</td>\n",
       "      <td>0.378205</td>\n",
       "      <td>0.366443</td>\n",
       "      <td>0.561538</td>\n",
       "      <td>0.573776</td>\n",
       "      <td>0.103147</td>\n",
       "      <td>0.765734</td>\n",
       "      <td>3.146853</td>\n",
       "      <td>53.146853</td>\n",
       "    </tr>\n",
       "    <tr>\n",
       "      <td>11</td>\n",
       "      <td></td>\n",
       "      <td>12</td>\n",
       "      <td>0.600000</td>\n",
       "      <td>0.233807</td>\n",
       "      <td>0.524476</td>\n",
       "      <td>1.363636</td>\n",
       "      <td>0.192308</td>\n",
       "      <td>0.269599</td>\n",
       "      <td>0.500000</td>\n",
       "      <td>0.523080</td>\n",
       "      <td>0.052448</td>\n",
       "      <td>0.818182</td>\n",
       "      <td>-47.552448</td>\n",
       "      <td>36.363636</td>\n",
       "    </tr>\n",
       "    <tr>\n",
       "      <td>12</td>\n",
       "      <td></td>\n",
       "      <td>13</td>\n",
       "      <td>0.700000</td>\n",
       "      <td>0.167781</td>\n",
       "      <td>0.559441</td>\n",
       "      <td>1.248751</td>\n",
       "      <td>0.205128</td>\n",
       "      <td>0.196571</td>\n",
       "      <td>0.457875</td>\n",
       "      <td>0.476436</td>\n",
       "      <td>0.055944</td>\n",
       "      <td>0.874126</td>\n",
       "      <td>-44.055944</td>\n",
       "      <td>24.875125</td>\n",
       "    </tr>\n",
       "    <tr>\n",
       "      <td>13</td>\n",
       "      <td></td>\n",
       "      <td>14</td>\n",
       "      <td>0.800000</td>\n",
       "      <td>0.110738</td>\n",
       "      <td>0.576923</td>\n",
       "      <td>1.164773</td>\n",
       "      <td>0.211538</td>\n",
       "      <td>0.137742</td>\n",
       "      <td>0.427083</td>\n",
       "      <td>0.434099</td>\n",
       "      <td>0.057692</td>\n",
       "      <td>0.931818</td>\n",
       "      <td>-42.307692</td>\n",
       "      <td>16.477273</td>\n",
       "    </tr>\n",
       "    <tr>\n",
       "      <td>14</td>\n",
       "      <td></td>\n",
       "      <td>15</td>\n",
       "      <td>0.900000</td>\n",
       "      <td>0.070073</td>\n",
       "      <td>0.437063</td>\n",
       "      <td>1.083916</td>\n",
       "      <td>0.160256</td>\n",
       "      <td>0.088878</td>\n",
       "      <td>0.397436</td>\n",
       "      <td>0.395741</td>\n",
       "      <td>0.043706</td>\n",
       "      <td>0.975524</td>\n",
       "      <td>-56.293706</td>\n",
       "      <td>8.391608</td>\n",
       "    </tr>\n",
       "    <tr>\n",
       "      <td>15</td>\n",
       "      <td></td>\n",
       "      <td>16</td>\n",
       "      <td>1.000000</td>\n",
       "      <td>0.030025</td>\n",
       "      <td>0.244755</td>\n",
       "      <td>1.000000</td>\n",
       "      <td>0.089744</td>\n",
       "      <td>0.052556</td>\n",
       "      <td>0.366667</td>\n",
       "      <td>0.361423</td>\n",
       "      <td>0.024476</td>\n",
       "      <td>1.000000</td>\n",
       "      <td>-75.524476</td>\n",
       "      <td>0.000000</td>\n",
       "    </tr>\n",
       "  </tbody>\n",
       "</table>\n",
       "</div>"
      ],
      "text/plain": [
       "      group  cumulative_data_fraction  lower_threshold      lift  \\\n",
       "0         1                  0.010256         0.796761  1.875000   \n",
       "1         2                  0.020513         0.781028  2.215909   \n",
       "2         3                  0.030128         0.768043  1.454545   \n",
       "3         4                  0.040385         0.754279  1.193182   \n",
       "4         5                  0.050000         0.737866  1.454545   \n",
       "5         6                  0.117308         0.732708  2.701299   \n",
       "6         7                  0.150000         0.680923  1.550802   \n",
       "7         8                  0.200000         0.631759  1.608392   \n",
       "8         9                  0.300000         0.528060  1.538462   \n",
       "9        10                  0.400000         0.420971  1.136364   \n",
       "10       11                  0.500000         0.307136  1.031469   \n",
       "11       12                  0.600000         0.233807  0.524476   \n",
       "12       13                  0.700000         0.167781  0.559441   \n",
       "13       14                  0.800000         0.110738  0.576923   \n",
       "14       15                  0.900000         0.070073  0.437063   \n",
       "15       16                  1.000000         0.030025  0.244755   \n",
       "\n",
       "    cumulative_lift  response_rate     score  cumulative_response_rate  \\\n",
       "0          1.875000       0.687500  0.807534                  0.687500   \n",
       "1          2.045455       0.812500  0.785324                  0.750000   \n",
       "2          1.856867       0.533333  0.777303                  0.680851   \n",
       "3          1.688312       0.437500  0.760446                  0.619048   \n",
       "4          1.643357       0.533333  0.748063                  0.602564   \n",
       "5          2.250373       0.990476  0.732815                  0.825137   \n",
       "6          2.097902       0.568627  0.706082                  0.769231   \n",
       "7          1.975524       0.589744  0.657772                  0.724359   \n",
       "8          1.829837       0.564103  0.581620                  0.670940   \n",
       "9          1.656469       0.416667  0.479823                  0.607372   \n",
       "10         1.531469       0.378205  0.366443                  0.561538   \n",
       "11         1.363636       0.192308  0.269599                  0.500000   \n",
       "12         1.248751       0.205128  0.196571                  0.457875   \n",
       "13         1.164773       0.211538  0.137742                  0.427083   \n",
       "14         1.083916       0.160256  0.088878                  0.397436   \n",
       "15         1.000000       0.089744  0.052556                  0.366667   \n",
       "\n",
       "    cumulative_score  capture_rate  cumulative_capture_rate        gain  \\\n",
       "0           0.807534      0.019231                 0.019231   87.500000   \n",
       "1           0.796429      0.022727                 0.041958  121.590909   \n",
       "2           0.790325      0.013986                 0.055944   45.454545   \n",
       "3           0.782737      0.012238                 0.068182   19.318182   \n",
       "4           0.776069      0.013986                 0.082168   45.454545   \n",
       "5           0.751251      0.181818                 0.263986  170.129870   \n",
       "6           0.741406      0.050699                 0.314685   55.080214   \n",
       "7           0.720498      0.080420                 0.395105   60.839161   \n",
       "8           0.674205      0.153846                 0.548951   53.846154   \n",
       "9           0.625610      0.113636                 0.662587   13.636364   \n",
       "10          0.573776      0.103147                 0.765734    3.146853   \n",
       "11          0.523080      0.052448                 0.818182  -47.552448   \n",
       "12          0.476436      0.055944                 0.874126  -44.055944   \n",
       "13          0.434099      0.057692                 0.931818  -42.307692   \n",
       "14          0.395741      0.043706                 0.975524  -56.293706   \n",
       "15          0.361423      0.024476                 1.000000  -75.524476   \n",
       "\n",
       "    cumulative_gain  \n",
       "0         87.500000  \n",
       "1        104.545455  \n",
       "2         85.686654  \n",
       "3         68.831169  \n",
       "4         64.335664  \n",
       "5        125.037258  \n",
       "6        109.790210  \n",
       "7         97.552448  \n",
       "8         82.983683  \n",
       "9         65.646853  \n",
       "10        53.146853  \n",
       "11        36.363636  \n",
       "12        24.875125  \n",
       "13        16.477273  \n",
       "14         8.391608  \n",
       "15         0.000000  "
      ]
     },
     "metadata": {},
     "output_type": "display_data"
    },
    {
     "name": "stdout",
     "output_type": "stream",
     "text": [
      "\n"
     ]
    },
    {
     "data": {
      "text/plain": []
     },
     "execution_count": 29,
     "metadata": {},
     "output_type": "execute_result"
    }
   ],
   "source": [
    "glm.model_performance(test)"
   ]
  },
  {
   "cell_type": "markdown",
   "metadata": {},
   "source": [
    "We tested the base model (without any hyperparameter tuning and it did pretty decent with an AUC = 0.76). Let's see how much can we improve this model if we introduce hyperparameter tuning using Grid Search.\n",
    "\n",
    "There are two ways to go about this:\n",
    "- Random Grid Search: random combinations of the parameters are tested for some specific period of time \n",
    "- Cartesian Grid Search: exhaustive grid search over all possible combinations of the parameters"
   ]
  },
  {
   "cell_type": "markdown",
   "metadata": {},
   "source": [
    "## Cartesian Grid Search"
   ]
  },
  {
   "cell_type": "code",
   "execution_count": 31,
   "metadata": {},
   "outputs": [],
   "source": [
    "# Import H2O Grid Search:\n",
    "from h2o.grid.grid_search import H2OGridSearch"
   ]
  },
  {
   "cell_type": "markdown",
   "metadata": {},
   "source": [
    "#### To get the best possible model, we need to find the optimal values of the regularization parameters 𝛼 and 𝜆. \n",
    "\n",
    "Since the search space is small we can use cartesian grid search. "
   ]
  },
  {
   "cell_type": "code",
   "execution_count": 41,
   "metadata": {},
   "outputs": [],
   "source": [
    "# defininf a dictionary of hyperparameters for logistic regression\n",
    "param = { 'alpha': [x * 0.01 for x in range(0,11)]\n",
    "    }\n",
    "\n",
    "h20_grid = H2OGridSearch(model = H2OGeneralizedLinearEstimator(family = 'binomial'),\n",
    "                         hyper_params = param, \n",
    "                         search_criteria = {'strategy': \"Cartesian\"},\n",
    "                         grid_id = 'glm_grid1')"
   ]
  },
  {
   "cell_type": "markdown",
   "metadata": {},
   "source": [
    "If you notice, we havent provided lambda in the grid parameters because h2o has inbuilt automatic tuning to find the best lambda value. Thus, we can find the optimal value for lambda automatically by setting lambda_search = True. Since we want to specify this non-default model parameters that is not part of our grid, we pass them along to the grid via the H2OGridSearch.train() method (see below)"
   ]
  },
  {
   "cell_type": "code",
   "execution_count": 42,
   "metadata": {},
   "outputs": [
    {
     "name": "stdout",
     "output_type": "stream",
     "text": [
      "glm Grid Build progress: |████████████████████████████████████████████████| 100%\n"
     ]
    }
   ],
   "source": [
    "h20_grid.train(x = x,\n",
    "              y = y,\n",
    "              training_frame= train,\n",
    "              validation_frame=validate, \n",
    "            lambda_search = True # model parameter than we want to prefix!\n",
    "              )"
   ]
  },
  {
   "cell_type": "markdown",
   "metadata": {},
   "source": [
    "Since we pass *lambda_search = True*, we must explicitly state a validation frame (when training the model) which is used to evaluate model performance using a particular value of lambda)"
   ]
  },
  {
   "cell_type": "code",
   "execution_count": 43,
   "metadata": {},
   "outputs": [
    {
     "name": "stdout",
     "output_type": "stream",
     "text": [
      "       alpha           model_ids                 auc\n",
      "0      [0.1]  glm_grid1_model_11  0.7967139709049939\n",
      "1     [0.09]  glm_grid1_model_10  0.7966684064022269\n",
      "2     [0.08]   glm_grid1_model_9  0.7966342330251516\n",
      "3     [0.06]   glm_grid1_model_7  0.7965658862710011\n",
      "4     [0.07]   glm_grid1_model_8   0.796563815157239\n",
      "5     [0.05]   glm_grid1_model_6  0.7965544951453094\n",
      "6     [0.04]   glm_grid1_model_5  0.7965234284388774\n",
      "7     [0.02]   glm_grid1_model_3  0.7964985750737317\n",
      "8     [0.03]   glm_grid1_model_4  0.7964975395168507\n",
      "9     [0.01]   glm_grid1_model_2  0.7964416194452729\n",
      "10     [0.0]   glm_grid1_model_1    0.79632253040395\n"
     ]
    },
    {
     "data": {
      "text/plain": []
     },
     "execution_count": 43,
     "metadata": {},
     "output_type": "execute_result"
    }
   ],
   "source": [
    "cartesian_grid_perf = h20_grid.get_grid(sort_by='auc', decreasing=True)\n",
    "cartesian_grid_perf"
   ]
  },
  {
   "cell_type": "markdown",
   "metadata": {},
   "source": [
    "Thus according to the cartesian grid search, the best value for alpha  = 0.08 as it gives the largest AUC = 0.79 which is a decent improvement over our previous model with AUC = 0.76 over validation frame"
   ]
  },
  {
   "cell_type": "code",
   "execution_count": 44,
   "metadata": {},
   "outputs": [],
   "source": [
    "# Grabbing the best model from Cartesian grid search\n",
    "best_cart_model = cartesian_grid_perf.models[0]"
   ]
  },
  {
   "cell_type": "markdown",
   "metadata": {},
   "source": [
    "## Random Grid Search\n",
    "\n",
    "For bigger search spaces, random Grid search is more preferred. Here, we just demonstrate how to use it for GLM"
   ]
  },
  {
   "cell_type": "code",
   "execution_count": 29,
   "metadata": {},
   "outputs": [],
   "source": [
    "params = {\n",
    "   'alpha': [x * 0.01 for x in range(0,99)]\n",
    "}"
   ]
  },
  {
   "cell_type": "markdown",
   "metadata": {},
   "source": [
    "Even though we have defined a bigger search space this time, it will run fairly quickly. "
   ]
  },
  {
   "cell_type": "code",
   "execution_count": 30,
   "metadata": {},
   "outputs": [],
   "source": [
    "# creating dictionary of search criteria\n",
    "search_criteria = {'strategy': 'RandomDiscrete',\n",
    "                  'max_models': 30 # ensuring max of 30 models are checked\n",
    "                  }"
   ]
  },
  {
   "cell_type": "markdown",
   "metadata": {},
   "source": [
    "Within search criteria we can also specify *'max_runtime_secs': 120* to limit the computations to 2 minutes max."
   ]
  },
  {
   "cell_type": "code",
   "execution_count": 33,
   "metadata": {},
   "outputs": [],
   "source": [
    "# creating the grid of GLM and specifying the search criteria as random\n",
    "h2o_grid2 = H2OGridSearch(model = H2OGeneralizedLinearEstimator(family = 'binomial'),\n",
    "             hyper_params = params,\n",
    "            search_criteria = search_criteria,\n",
    "             grid_id = 'glm_grid2')"
   ]
  },
  {
   "cell_type": "code",
   "execution_count": 34,
   "metadata": {},
   "outputs": [
    {
     "name": "stdout",
     "output_type": "stream",
     "text": [
      "glm Grid Build progress: |████████████████████████████████████████████████| 100%\n"
     ]
    }
   ],
   "source": [
    "# training \n",
    "h2o_grid2.train(x = x, y= y, \n",
    "                training_frame= train, \n",
    "                validation_frame=validate,\n",
    "                lambda_search = True)"
   ]
  },
  {
   "cell_type": "code",
   "execution_count": 36,
   "metadata": {},
   "outputs": [
    {
     "name": "stdout",
     "output_type": "stream",
     "text": [
      "                      alpha           model_ids                 auc\n",
      "0                    [0.73]  glm_grid2_model_26  0.7976159409484044\n",
      "1                    [0.86]  glm_grid2_model_20  0.7975517364217781\n",
      "2                     [0.9]  glm_grid2_model_10     0.7975341319548\n",
      "3                     [0.8]  glm_grid2_model_21     0.7975341319548\n",
      "4                    [0.77]  glm_grid2_model_28  0.7975299897272757\n",
      "5                    [0.96]  glm_grid2_model_13  0.7975289541703946\n",
      "6      [0.9400000000000001]  glm_grid2_model_29  0.7975175630447029\n",
      "7                    [0.78]   glm_grid2_model_4  0.7975092785896544\n",
      "8                    [0.65]  glm_grid2_model_24  0.7974523229611956\n",
      "9                    [0.67]  glm_grid2_model_11  0.7974316118235742\n",
      "10     [0.5700000000000001]  glm_grid2_model_25  0.7973943317758558\n",
      "11                    [0.5]  glm_grid2_model_27  0.7973239139079431\n",
      "12                   [0.55]  glm_grid2_model_15  0.7972959538721544\n",
      "13                   [0.56]  glm_grid2_model_19  0.7972835271895815\n",
      "14                   [0.45]   glm_grid2_model_9  0.7971913626271664\n",
      "15    [0.41000000000000003]  glm_grid2_model_23  0.7971147314179673\n",
      "16                   [0.34]  glm_grid2_model_18  0.7970909136097027\n",
      "17                    [0.3]  glm_grid2_model_17  0.7970070335023361\n",
      "18                   [0.32]  glm_grid2_model_30  0.7970008201610498\n",
      "19                   [0.28]  glm_grid2_model_22  0.7969376511913047\n",
      "20                   [0.21]   glm_grid2_model_7  0.7969045133711105\n",
      "21                   [0.24]   glm_grid2_model_8  0.7968744822215594\n",
      "22                   [0.19]  glm_grid2_model_14  0.7968548066408192\n",
      "23                   [0.18]   glm_grid2_model_5  0.7968227043775061\n",
      "24                   [0.17]  glm_grid2_model_16  0.7968009576830036\n",
      "25                   [0.15]   glm_grid2_model_6  0.7967553931802366\n",
      "26                   [0.14]  glm_grid2_model_12   0.796731575371972\n",
      "27                   [0.08]   glm_grid2_model_2  0.7966342330251516\n",
      "28                   [0.07]   glm_grid2_model_1   0.796563815157239\n",
      "29                   [0.04]   glm_grid2_model_3  0.7965234284388774\n"
     ]
    },
    {
     "data": {
      "text/plain": []
     },
     "execution_count": 36,
     "metadata": {},
     "output_type": "execute_result"
    }
   ],
   "source": [
    "random_grid_perf = h2o_grid2.get_grid(sort_by='auc', decreasing= True)\n",
    "random_grid_perf"
   ]
  },
  {
   "cell_type": "code",
   "execution_count": 39,
   "metadata": {},
   "outputs": [],
   "source": [
    "# Grabbing the best model from Random grid search\n",
    "best_random_model = random_grid_perf.models[0]"
   ]
  },
  {
   "cell_type": "markdown",
   "metadata": {},
   "source": [
    "## Comparison of the top models from Cartesian Grid Search and Random Grid Search"
   ]
  },
  {
   "cell_type": "code",
   "execution_count": 46,
   "metadata": {},
   "outputs": [
    {
     "data": {
      "text/plain": [
       "0.8030682697458484"
      ]
     },
     "execution_count": 46,
     "metadata": {},
     "output_type": "execute_result"
    }
   ],
   "source": [
    "best_cart_model.model_performance(test).auc()"
   ]
  },
  {
   "cell_type": "code",
   "execution_count": 47,
   "metadata": {},
   "outputs": [
    {
     "data": {
      "text/plain": [
       "0.8034591194968553"
      ]
     },
     "execution_count": 47,
     "metadata": {},
     "output_type": "execute_result"
    }
   ],
   "source": [
    "best_random_model.model_performance(test).auc()"
   ]
  },
  {
   "cell_type": "markdown",
   "metadata": {},
   "source": [
    "As can be seen very minute difference between the two."
   ]
  },
  {
   "cell_type": "code",
   "execution_count": 19,
   "metadata": {},
   "outputs": [
    {
     "name": "stderr",
     "output_type": "stream",
     "text": [
      "/Users/root947/opt/anaconda3/lib/python3.7/site-packages/ipykernel_launcher.py:1: DeprecationWarning: Deprecated, use ``h2o.cluster().shutdown()``.\n",
      "  \"\"\"Entry point for launching an IPython kernel.\n"
     ]
    },
    {
     "name": "stdout",
     "output_type": "stream",
     "text": [
      "H2O session _sid_aed3 closed.\n"
     ]
    }
   ],
   "source": [
    "h2o.shutdown(prompt=False)"
   ]
  },
  {
   "cell_type": "code",
   "execution_count": null,
   "metadata": {},
   "outputs": [],
   "source": []
  },
  {
   "cell_type": "code",
   "execution_count": null,
   "metadata": {},
   "outputs": [],
   "source": []
  }
 ],
 "metadata": {
  "kernelspec": {
   "display_name": "Python 3",
   "language": "python",
   "name": "python3"
  },
  "language_info": {
   "codemirror_mode": {
    "name": "ipython",
    "version": 3
   },
   "file_extension": ".py",
   "mimetype": "text/x-python",
   "name": "python",
   "nbconvert_exporter": "python",
   "pygments_lexer": "ipython3",
   "version": "3.7.4"
  }
 },
 "nbformat": 4,
 "nbformat_minor": 2
}
